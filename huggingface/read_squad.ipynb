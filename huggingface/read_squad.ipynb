{
 "cells": [
  {
   "cell_type": "code",
   "execution_count": 6,
   "metadata": {},
   "outputs": [],
   "source": [
    "import json\n",
    "import random\n",
    "\n",
    "with open('dev-v2.0.json') as f:\n",
    "    read = json.load(f)"
   ]
  },
  {
   "cell_type": "code",
   "execution_count": 20,
   "metadata": {},
   "outputs": [
    {
     "data": {
      "text/plain": [
       "'Who fled from southern Italy?'"
      ]
     },
     "execution_count": 20,
     "metadata": {},
     "output_type": "execute_result"
    }
   ],
   "source": [
    "read['data'][0]['paragraphs'][-1]['qas'][-1]['question']"
   ]
  },
  {
   "cell_type": "code",
   "execution_count": 16,
   "metadata": {},
   "outputs": [],
   "source": [
    "book = random.choice(read['data'])"
   ]
  },
  {
   "cell_type": "code",
   "execution_count": 17,
   "metadata": {},
   "outputs": [
    {
     "data": {
      "text/plain": [
       "{'qas': [{'question': 'What is used to figure the relative strengh of gravity?',\n",
       "   'id': '57378862c3c5551400e51f21',\n",
       "   'answers': [{'text': \"Newton's Universal Gravitation Constant,\",\n",
       "     'answer_start': 134},\n",
       "    {'text': 'dimensional constant', 'answer_start': 20},\n",
       "    {'text': 'a dimensional constant', 'answer_start': 18},\n",
       "    {'text': 'a dimensional constant', 'answer_start': 18}],\n",
       "   'is_impossible': False},\n",
       "  {'question': 'Who made the first to measure value of the Newton Universal Gravitation Constant?',\n",
       "   'id': '57378862c3c5551400e51f22',\n",
       "   'answers': [{'text': 'Henry Cavendish', 'answer_start': 245},\n",
       "    {'text': 'Henry Cavendish', 'answer_start': 245},\n",
       "    {'text': 'Henry Cavendish', 'answer_start': 245},\n",
       "    {'text': 'Henry Cavendish', 'answer_start': 245}],\n",
       "   'is_impossible': False},\n",
       "  {'question': 'When was the first measurement of the value of the Newton Universal Gravitation Constant?',\n",
       "   'id': '57378862c3c5551400e51f23',\n",
       "   'answers': [{'text': '1798', 'answer_start': 236},\n",
       "    {'text': '1798', 'answer_start': 236},\n",
       "    {'text': '1798', 'answer_start': 236},\n",
       "    {'text': '1798', 'answer_start': 236}],\n",
       "   'is_impossible': False},\n",
       "  {'question': 'Who figured out that his law of gravity had to be universal?',\n",
       "   'id': '57378862c3c5551400e51f24',\n",
       "   'answers': [{'text': 'Newton', 'answer_start': 492},\n",
       "    {'text': 'Newton', 'answer_start': 643},\n",
       "    {'text': 'Newton', 'answer_start': 492},\n",
       "    {'text': 'Newton', 'answer_start': 492}],\n",
       "   'is_impossible': False},\n",
       "  {'plausible_answers': [{'text': 'dimensional constant', 'answer_start': 20}],\n",
       "   'question': 'What is used to describe the weakness of gravity?',\n",
       "   'id': '5ad27f01d7d075001a429742',\n",
       "   'answers': [],\n",
       "   'is_impossible': True},\n",
       "  {'plausible_answers': [{'text': \"Newton's Universal Gravitation Constant\",\n",
       "     'answer_start': 134}],\n",
       "   'question': \"Whose value was know in Newton's life?\",\n",
       "   'id': '5ad27f01d7d075001a429743',\n",
       "   'answers': [],\n",
       "   'is_impossible': True},\n",
       "  {'plausible_answers': [{'text': 'Newton', 'answer_start': 492}],\n",
       "   'question': 'Who realized that only some celestial bodies followed the same laws of motion?',\n",
       "   'id': '5ad27f01d7d075001a429744',\n",
       "   'answers': [],\n",
       "   'is_impossible': True},\n",
       "  {'plausible_answers': [{'text': 'the force on a spherical object of mass  due to the gravitational pull of mass',\n",
       "     'answer_start': 683}],\n",
       "   'question': \"Cavendish's Law of Gravitation states what?\",\n",
       "   'id': '5ad27f01d7d075001a429745',\n",
       "   'answers': [],\n",
       "   'is_impossible': True}],\n",
       " 'context': \"In this equation, a dimensional constant  is used to describe the relative strength of gravity. This constant has come to be known as Newton's Universal Gravitation Constant, though its value was unknown in Newton's lifetime. Not until 1798 was Henry Cavendish able to make the first measurement of  using a torsion balance; this was widely reported in the press as a measurement of the mass of the Earth since knowing  could allow one to solve for the Earth's mass given the above equation. Newton, however, realized that since all celestial bodies followed the same laws of motion, his law of gravity had to be universal. Succinctly stated, Newton's Law of Gravitation states that the force on a spherical object of mass  due to the gravitational pull of mass  is\"}"
      ]
     },
     "execution_count": 17,
     "metadata": {},
     "output_type": "execute_result"
    }
   ],
   "source": [
    "paragraph = random.choice(book['paragraphs'])\n",
    "paragraph"
   ]
  },
  {
   "cell_type": "code",
   "execution_count": null,
   "metadata": {},
   "outputs": [],
   "source": []
  }
 ],
 "metadata": {
  "kernelspec": {
   "display_name": "pytorch1.10",
   "language": "python",
   "name": "python3"
  },
  "language_info": {
   "codemirror_mode": {
    "name": "ipython",
    "version": 3
   },
   "file_extension": ".py",
   "mimetype": "text/x-python",
   "name": "python",
   "nbconvert_exporter": "python",
   "pygments_lexer": "ipython3",
   "version": "3.10.4"
  },
  "orig_nbformat": 4,
  "vscode": {
   "interpreter": {
    "hash": "4fc5fa8ed76756c9f1c1fe21d69b4a13ec4b696a25ed91a91b6a167c0ca20b72"
   }
  }
 },
 "nbformat": 4,
 "nbformat_minor": 2
}
